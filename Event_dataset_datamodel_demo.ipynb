{
  "cells": [
    {
      "cell_type": "markdown",
      "metadata": {
        "id": "JYBKOk6SqKob"
      },
      "source": [
        "# Import Libraries"
      ]
    },
    {
      "cell_type": "code",
      "execution_count": 1,
      "metadata": {
        "id": "0qygJ778GQF2"
      },
      "outputs": [],
      "source": [
        "import json\n",
        "from datetime import datetime\n",
        "from IPython.display import clear_output \n",
        "import numpy as np\n",
        "import pandas as pd\n",
        "import pytz\n",
        "from time import gmtime, strftime\n",
        "\n",
        "!pip install yahoo_fin --upgrade --no-cache-dir\n",
        "clear_output()"
      ]
    },
    {
      "cell_type": "code",
      "execution_count": 2,
      "metadata": {
        "colab": {
          "base_uri": "https://localhost:8080/"
        },
        "id": "25X__zEmcPcy",
        "outputId": "93487dc9-dfef-4a34-d1d7-b7d2c552c9ac"
      },
      "outputs": [
        {
          "name": "stdout",
          "output_type": "stream",
          "text": [
            "2023-02-09 07:00:52.787880\n",
            "GMT+11\n",
            "GMT-5\n"
          ]
        }
      ],
      "source": [
        "now= datetime.now()\n",
        "date_time = now.strftime(\"%Y-%m-%d %H:%M:%S.%f\")\n",
        "tzs = 'GMT+11'\n",
        "tza = 'GMT-5'\n",
        "print(date_time)\n",
        "print(tzs)\n",
        "print(tza)\n"
      ]
    },
    {
      "cell_type": "markdown",
      "metadata": {
        "id": "7qd97eQeooFJ"
      },
      "source": [
        "# Tool for visualizing json format\n",
        "https://jsoncrack.com/editor"
      ]
    },
    {
      "cell_type": "markdown",
      "metadata": {
        "id": "DpEG0uNMBie0"
      },
      "source": [
        "# Data model template"
      ]
    },
    {
      "cell_type": "code",
      "execution_count": 3,
      "metadata": {
        "colab": {
          "base_uri": "https://localhost:8080/"
        },
        "id": "Pj9czJAlBdPh",
        "outputId": "170065bc-d055-46e6-87d9-3d825854933f"
      },
      "outputs": [
        {
          "data": {
            "text/plain": [
              "{'data_source': 'datasource_X',\n",
              " 'dataset_type_id': 'http://bucket-name.s3-website-Region.amazonaws.com',\n",
              " 'time_object': {'timestamp': '2023-02-09 07:00:52.787880',\n",
              "  'timezone': 'GMT+11'},\n",
              " 'events': [{'time_object': {'timestamp': '2019-07-21 13:04:40.3401012',\n",
              "    'duration': 1,\n",
              "    'timezone': 'GMT+11'},\n",
              "   'event_type': 'sensor reading',\n",
              "   'attribute': {'attr1': 36.0, 'attr2': 'abc', 'attr3': False}},\n",
              "  {'time_object': {'timestamp': '2019-07-22 13:04:40.301022',\n",
              "    'duration': 1,\n",
              "    'timezone': 'GMT+11'},\n",
              "   'event_type': 'sensor reading',\n",
              "   'attribute': {'attr1': 37.0, 'attr2': 'bcd', 'attr3': True}}]}"
            ]
          },
          "execution_count": 3,
          "metadata": {},
          "output_type": "execute_result"
        }
      ],
      "source": [
        "# Our data model\n",
        "jsonfile_example = {\"data_source\":\"datasource_X\", \"dataset_type_id\": \"http://bucket-name.s3-website-Region.amazonaws.com\", \n",
        "                        \"time_object\":{\"timestamp\":date_time, \"timezone\":tzs},\n",
        "             \"events\":[{\"time_object\":{\"timestamp\":'2019-07-21 13:04:40.3401012', \"duration\":1, \"timezone\":tzs},\"event_type\":'sensor reading',   \n",
        "                          \"attribute\":{\"attr1\":36.0, \"attr2\":\"abc\", \"attr3\":False}},\n",
        "                       {\"time_object\":{\"timestamp\":'2019-07-22 13:04:40.301022', \"duration\":1, \"timezone\":tzs},\"event_type\":'sensor reading',   \n",
        "                          \"attribute\":{\"attr1\":37.0, \"attr2\":\"bcd\", \"attr3\":True}},\n",
        "                       ],  \n",
        "             }\n",
        "# Write pretty print JSON data to file\n",
        "with open(\"jsonfile_example.json\", \"w\") as write_file:\n",
        "    json.dump(jsonfile_example, write_file, indent=4)\n",
        "\n",
        "jsonfile_example"
      ]
    },
    {
      "cell_type": "markdown",
      "metadata": {
        "id": "5ouva0slqMDs"
      },
      "source": [
        "# Example 1.Yahoo finance "
      ]
    },
    {
      "cell_type": "markdown",
      "metadata": {
        "id": "y3SSh3tnbwpo"
      },
      "source": [
        "## a. yahoo finance quote data"
      ]
    },
    {
      "cell_type": "code",
      "execution_count": 4,
      "metadata": {
        "colab": {
          "base_uri": "https://localhost:8080/"
        },
        "id": "bawcDI_7ZhX4",
        "outputId": "33cb4624-8783-4747-d48d-20ab39758722"
      },
      "outputs": [
        {
          "name": "stderr",
          "output_type": "stream",
          "text": [
            "/home/codespace/.python/current/lib/python3.10/site-packages/yahoo_fin/stock_info.py:295: FutureWarning: The frame.append method is deprecated and will be removed from pandas in a future version. Use pandas.concat instead.\n",
            "  data = tables[0].append(tables[1])\n",
            "/home/codespace/.python/current/lib/python3.10/site-packages/yahoo_fin/stock_info.py:302: FutureWarning: The frame.append method is deprecated and will be removed from pandas in a future version. Use pandas.concat instead.\n",
            "  data = data.append(quote_price)\n"
          ]
        },
        {
          "data": {
            "text/plain": [
              "{'1y Target Est': 169.17,\n",
              " '52 Week Range': '124.17 - 179.61',\n",
              " 'Ask': '0.00 x 900',\n",
              " 'Avg. Volume': 77873885.0,\n",
              " 'Beta (5Y Monthly)': 1.28,\n",
              " 'Bid': '0.00 x 800',\n",
              " \"Day's Range\": '151.17 - 154.58',\n",
              " 'EPS (TTM)': 5.89,\n",
              " 'Earnings Date': 'Apr 26, 2023 - May 01, 2023',\n",
              " 'Ex-Dividend Date': 'Feb 10, 2023',\n",
              " 'Forward Dividend & Yield': '0.92 (0.59%)',\n",
              " 'Market Cap': '2.404T',\n",
              " 'Open': 153.88,\n",
              " 'PE Ratio (TTM)': 25.79,\n",
              " 'Previous Close': 154.65,\n",
              " 'Quote Price': 151.9199981689453,\n",
              " 'Volume': 64120079.0}"
            ]
          },
          "execution_count": 4,
          "metadata": {},
          "output_type": "execute_result"
        }
      ],
      "source": [
        "# get raw data\n",
        "\n",
        "import yahoo_fin.stock_info as si\n",
        "quote_table = si.get_quote_table(\"aapl\")\n",
        "quote_table\n"
      ]
    },
    {
      "cell_type": "code",
      "execution_count": 5,
      "metadata": {
        "colab": {
          "base_uri": "https://localhost:8080/"
        },
        "id": "HFVroXx7GU8z",
        "outputId": "11b18c6b-88e5-4d1e-fc74-e63020c9ab24"
      },
      "outputs": [
        {
          "data": {
            "text/plain": [
              "{'data_source': 'yahoo_finance',\n",
              " 'dataset_type_id': 'http://bucket-name.s3-website-Region.amazonaws.com',\n",
              " 'time_object': {'timestamp': '2023-02-09 07:00:52.787880',\n",
              "  'timezone': 'GMT+11'},\n",
              " 'events': [{'time_object': {'timestamp': '2019-07-21 13:04:40.3401012',\n",
              "    'duration': 1,\n",
              "    'timezone': 'GMT+11'},\n",
              "   'event_type': 'stock quote',\n",
              "   'attribute': {'1y Target Est': 169.17,\n",
              "    '52 Week Range': '124.17 - 179.61',\n",
              "    'Ask': '0.00 x 900',\n",
              "    'Avg. Volume': 77873885.0,\n",
              "    'Beta (5Y Monthly)': 1.28,\n",
              "    'Bid': '0.00 x 800',\n",
              "    \"Day's Range\": '151.17 - 154.58',\n",
              "    'EPS (TTM)': 5.89,\n",
              "    'Earnings Date': 'Apr 26, 2023 - May 01, 2023',\n",
              "    'Ex-Dividend Date': 'Feb 10, 2023',\n",
              "    'Forward Dividend & Yield': '0.92 (0.59%)',\n",
              "    'Market Cap': '2.404T',\n",
              "    'Open': 153.88,\n",
              "    'PE Ratio (TTM)': 25.79,\n",
              "    'Previous Close': 154.65,\n",
              "    'Quote Price': 151.9199981689453,\n",
              "    'Volume': 64120079.0}}]}"
            ]
          },
          "execution_count": 5,
          "metadata": {},
          "output_type": "execute_result"
        }
      ],
      "source": [
        "# Our data model\n",
        "jsonfile_quote = {\"data_source\":\"yahoo_finance\", \"dataset_type_id\": \"http://bucket-name.s3-website-Region.amazonaws.com\",\n",
        "                  \"time_object\":{\"timestamp\":date_time, \"timezone\":tzs},\n",
        "             \"events\":[{\"time_object\":{\"timestamp\":'2019-07-21 13:04:40.3401012', \"duration\":1, \"timezone\":tzs},\n",
        "                        \"event_type\":'stock quote',   \n",
        "                        \"attribute\":quote_table, }],  \n",
        "             }\n",
        "# Write pretty print JSON data to file\n",
        "with open(\"jsonfile_quote.json\", \"w\") as write_file:\n",
        "    json.dump(jsonfile_quote, write_file, indent=4)\n",
        "\n",
        "jsonfile_quote"
      ]
    },
    {
      "cell_type": "markdown",
      "metadata": {
        "id": "CWKR6dttdVD4"
      },
      "source": [
        "## b. yahoo finance OHLC data"
      ]
    },
    {
      "cell_type": "code",
      "execution_count": 6,
      "metadata": {
        "colab": {
          "base_uri": "https://localhost:8080/",
          "height": 206
        },
        "id": "POkQKj5idY7K",
        "outputId": "2018525d-1959-44c8-952a-2d49223c6bc3"
      },
      "outputs": [
        {
          "data": {
            "text/html": [
              "<div>\n",
              "<style scoped>\n",
              "    .dataframe tbody tr th:only-of-type {\n",
              "        vertical-align: middle;\n",
              "    }\n",
              "\n",
              "    .dataframe tbody tr th {\n",
              "        vertical-align: top;\n",
              "    }\n",
              "\n",
              "    .dataframe thead th {\n",
              "        text-align: right;\n",
              "    }\n",
              "</style>\n",
              "<table border=\"1\" class=\"dataframe\">\n",
              "  <thead>\n",
              "    <tr style=\"text-align: right;\">\n",
              "      <th></th>\n",
              "      <th>open</th>\n",
              "      <th>high</th>\n",
              "      <th>low</th>\n",
              "      <th>close</th>\n",
              "      <th>adjclose</th>\n",
              "      <th>volume</th>\n",
              "      <th>ticker</th>\n",
              "      <th>date</th>\n",
              "    </tr>\n",
              "  </thead>\n",
              "  <tbody>\n",
              "    <tr>\n",
              "      <th>1980-12-12</th>\n",
              "      <td>0.128348</td>\n",
              "      <td>0.128906</td>\n",
              "      <td>0.128348</td>\n",
              "      <td>0.128348</td>\n",
              "      <td>0.099874</td>\n",
              "      <td>469033600</td>\n",
              "      <td>AAPL</td>\n",
              "      <td>1980-12-12</td>\n",
              "    </tr>\n",
              "    <tr>\n",
              "      <th>1980-12-15</th>\n",
              "      <td>0.122210</td>\n",
              "      <td>0.122210</td>\n",
              "      <td>0.121652</td>\n",
              "      <td>0.121652</td>\n",
              "      <td>0.094663</td>\n",
              "      <td>175884800</td>\n",
              "      <td>AAPL</td>\n",
              "      <td>1980-12-15</td>\n",
              "    </tr>\n",
              "    <tr>\n",
              "      <th>1980-12-16</th>\n",
              "      <td>0.113281</td>\n",
              "      <td>0.113281</td>\n",
              "      <td>0.112723</td>\n",
              "      <td>0.112723</td>\n",
              "      <td>0.087715</td>\n",
              "      <td>105728000</td>\n",
              "      <td>AAPL</td>\n",
              "      <td>1980-12-16</td>\n",
              "    </tr>\n",
              "    <tr>\n",
              "      <th>1980-12-17</th>\n",
              "      <td>0.115513</td>\n",
              "      <td>0.116071</td>\n",
              "      <td>0.115513</td>\n",
              "      <td>0.115513</td>\n",
              "      <td>0.089886</td>\n",
              "      <td>86441600</td>\n",
              "      <td>AAPL</td>\n",
              "      <td>1980-12-17</td>\n",
              "    </tr>\n",
              "    <tr>\n",
              "      <th>1980-12-18</th>\n",
              "      <td>0.118862</td>\n",
              "      <td>0.119420</td>\n",
              "      <td>0.118862</td>\n",
              "      <td>0.118862</td>\n",
              "      <td>0.092492</td>\n",
              "      <td>73449600</td>\n",
              "      <td>AAPL</td>\n",
              "      <td>1980-12-18</td>\n",
              "    </tr>\n",
              "  </tbody>\n",
              "</table>\n",
              "</div>"
            ],
            "text/plain": [
              "                open      high       low     close  adjclose     volume  \\\n",
              "1980-12-12  0.128348  0.128906  0.128348  0.128348  0.099874  469033600   \n",
              "1980-12-15  0.122210  0.122210  0.121652  0.121652  0.094663  175884800   \n",
              "1980-12-16  0.113281  0.113281  0.112723  0.112723  0.087715  105728000   \n",
              "1980-12-17  0.115513  0.116071  0.115513  0.115513  0.089886   86441600   \n",
              "1980-12-18  0.118862  0.119420  0.118862  0.118862  0.092492   73449600   \n",
              "\n",
              "           ticker        date  \n",
              "1980-12-12   AAPL  1980-12-12  \n",
              "1980-12-15   AAPL  1980-12-15  \n",
              "1980-12-16   AAPL  1980-12-16  \n",
              "1980-12-17   AAPL  1980-12-17  \n",
              "1980-12-18   AAPL  1980-12-18  "
            ]
          },
          "execution_count": 6,
          "metadata": {},
          "output_type": "execute_result"
        }
      ],
      "source": [
        "# get raw data\n",
        "import yahoo_fin.stock_info as si\n",
        "ohlc = si.get_data(\"aapl\")\n",
        "ohlc['date'] = ohlc.index\n",
        "ohlc['date'] = pd.to_datetime(ohlc['date'],format='%Y-%m-%d %00:00:00.00 %Z' ).astype(str)\n",
        "ohlc.head()"
      ]
    },
    {
      "cell_type": "code",
      "execution_count": 7,
      "metadata": {
        "colab": {
          "base_uri": "https://localhost:8080/"
        },
        "id": "FHoYsqm5dUCW",
        "outputId": "8c88f6a1-1f08-433e-eed2-e6024426243b"
      },
      "outputs": [
        {
          "data": {
            "text/plain": [
              "[{'open': 0.1283479929,\n",
              "  'high': 0.1289059967,\n",
              "  'low': 0.1283479929,\n",
              "  'close': 0.1283479929,\n",
              "  'adjclose': 0.0998737887,\n",
              "  'volume': 469033600,\n",
              "  'ticker': 'AAPL',\n",
              "  'date': '1980-12-12'},\n",
              " {'open': 0.1222100034,\n",
              "  'high': 0.1222100034,\n",
              "  'low': 0.1216519997,\n",
              "  'close': 0.1216519997,\n",
              "  'adjclose': 0.0946633071,\n",
              "  'volume': 175884800,\n",
              "  'ticker': 'AAPL',\n",
              "  'date': '1980-12-15'},\n",
              " {'open': 0.1132809967,\n",
              "  'high': 0.1132809967,\n",
              "  'low': 0.1127230003,\n",
              "  'close': 0.1127230003,\n",
              "  'adjclose': 0.0877152458,\n",
              "  'volume': 105728000,\n",
              "  'ticker': 'AAPL',\n",
              "  'date': '1980-12-16'}]"
            ]
          },
          "execution_count": 7,
          "metadata": {},
          "output_type": "execute_result"
        }
      ],
      "source": [
        "# transform in to json\n",
        "import ast\n",
        "ohlc_json = ohlc.to_json(orient=\"records\")\n",
        "ohlc_json = ast.literal_eval(ohlc_json)\n",
        "ohlc_json = ohlc_json[0:3]\n",
        "ohlc_json"
      ]
    },
    {
      "cell_type": "code",
      "execution_count": 8,
      "metadata": {
        "colab": {
          "base_uri": "https://localhost:8080/"
        },
        "id": "B9ksmY5chZDc",
        "outputId": "25f20a83-3915-4f44-c8b3-7e8feae479e3"
      },
      "outputs": [
        {
          "data": {
            "text/plain": [
              "{'data_source': 'yahoo_finance',\n",
              " 'dataset_type_id': 'http://bucket-name.s3-website-Region.amazonaws.com',\n",
              " 'time_object': {'timestamp': '2023-02-09 07:00:52.787880',\n",
              "  'timezone': 'GMT+11'},\n",
              " 'events': [{'time_object': {'timestamp': '1980-12-12 00:00:00.000000',\n",
              "    'duration': 86400,\n",
              "    'timezone': 'GMT+11'},\n",
              "   'event_type': 'stock ohlc',\n",
              "   'attribute': {'open': 0.1283479929,\n",
              "    'high': 0.1289059967,\n",
              "    'low': 0.1283479929,\n",
              "    'close': 0.1283479929,\n",
              "    'adjclose': 0.0998737887,\n",
              "    'volume': 469033600,\n",
              "    'ticker': 'AAPL',\n",
              "    'date': '1980-12-12'}},\n",
              "  {'time_object': {'timestamp': '1980-12-15 00:00:00.000000',\n",
              "    'duration': 86400,\n",
              "    'timezone': 'GMT+11'},\n",
              "   'event_type': 'stock ohlc',\n",
              "   'attribute': {'open': 0.1222100034,\n",
              "    'high': 0.1222100034,\n",
              "    'low': 0.1216519997,\n",
              "    'close': 0.1216519997,\n",
              "    'adjclose': 0.0946633071,\n",
              "    'volume': 175884800,\n",
              "    'ticker': 'AAPL',\n",
              "    'date': '1980-12-15'}},\n",
              "  {'time_object': {'timestamp': '1980-12-16 00:00:00.000000',\n",
              "    'duration': 86400,\n",
              "    'timezone': 'GMT+11'},\n",
              "   'event_type': 'stock ohlc',\n",
              "   'attribute': {'open': 0.1132809967,\n",
              "    'high': 0.1132809967,\n",
              "    'low': 0.1127230003,\n",
              "    'close': 0.1127230003,\n",
              "    'adjclose': 0.0877152458,\n",
              "    'volume': 105728000,\n",
              "    'ticker': 'AAPL',\n",
              "    'date': '1980-12-16'}}]}"
            ]
          },
          "execution_count": 8,
          "metadata": {},
          "output_type": "execute_result"
        }
      ],
      "source": [
        "# Our data model\n",
        "jsonfile_ohlc = {\"data_source\":\"yahoo_finance\", \"dataset_type_id\": \"http://bucket-name.s3-website-Region.amazonaws.com\", \n",
        "                 \"time_object\":{\"timestamp\":date_time, \"timezone\":tzs},\n",
        "                  \"events\":[]}\n",
        "\n",
        "for i in range(len(ohlc_json)):\n",
        "  datetime_object = pd.to_datetime(ohlc_json[i]['date'], format='%Y-%m-%d %H:%M:%S.%f' )\n",
        "  datetime_object= datetime_object.strftime('%Y-%m-%d %H:%M:%S.%f')\n",
        "  jsonfile_ohlc['events'].append({\"time_object\":{\"timestamp\":datetime_object, \"duration\":24*60*60, \"timezone\":tzs},\n",
        "                                  \"event_type\":'stock ohlc',   \"attribute\":ohlc_json[i] })\n",
        "\n",
        "# Write pretty print JSON data to file\n",
        "with open(\"jsonfile_ohlc.json\", \"w\") as write_file:\n",
        "    json.dump(jsonfile_ohlc, write_file, indent=4)\n",
        "    \n",
        "jsonfile_ohlc"
      ]
    },
    {
      "cell_type": "markdown",
      "metadata": {
        "id": "CLUlYzihgCik"
      },
      "source": [
        "## c. exmaple yahoo finance news data"
      ]
    },
    {
      "cell_type": "code",
      "execution_count": 9,
      "metadata": {
        "colab": {
          "base_uri": "https://localhost:8080/"
        },
        "id": "g8HZpgsVgCpo",
        "outputId": "8f125ddb-598a-45fb-b501-54d324a1ce8e"
      },
      "outputs": [
        {
          "data": {
            "text/plain": [
              "{'summary': '(Bloomberg) -- Apple Inc. is hiring its first chief people officer and shifting human resources duties from its head of retail, overhauling the way the tech giant hires and supports employees.Most Read from BloombergMeta Asks Many Managers to Get Back to Making Things or LeaveGeorge Santos Gets Into Fight With Mitt Romney at State of the Union DebutDeSantis Chides Trump as Republicans’ 2024 Presidential Race Heats UpChinese Balloon Was Part of Years-Long Spying Program, US SaysRussia Will Fail t',\n",
              " 'summary_detail': {'type': 'text/html',\n",
              "  'language': None,\n",
              "  'base': 'https://feeds.finance.yahoo.com/rss/2.0/headline?s=aapl&region=US&lang=en-US',\n",
              "  'value': '(Bloomberg) -- Apple Inc. is hiring its first chief people officer and shifting human resources duties from its head of retail, overhauling the way the tech giant hires and supports employees.Most Read from BloombergMeta Asks Many Managers to Get Back to Making Things or LeaveGeorge Santos Gets Into Fight With Mitt Romney at State of the Union DebutDeSantis Chides Trump as Republicans’ 2024 Presidential Race Heats UpChinese Balloon Was Part of Years-Long Spying Program, US SaysRussia Will Fail t'},\n",
              " 'id': '5ae84a53-55ae-3b55-8468-9ca26170b8cc',\n",
              " 'guidislink': False,\n",
              " 'links': [{'rel': 'alternate',\n",
              "   'type': 'text/html',\n",
              "   'href': 'https://finance.yahoo.com/news/apple-hires-first-people-officer-220019649.html?.tsrc=rss'}],\n",
              " 'link': 'https://finance.yahoo.com/news/apple-hires-first-people-officer-220019649.html?.tsrc=rss',\n",
              " 'published': 'Wed, 08 Feb 2023 22:00:19 +0000',\n",
              " 'published_parsed': time.struct_time(tm_year=2023, tm_mon=2, tm_mday=8, tm_hour=22, tm_min=0, tm_sec=19, tm_wday=2, tm_yday=39, tm_isdst=0),\n",
              " 'title': 'Apple Hires Its First People Officer in Executive Reshuffle',\n",
              " 'title_detail': {'type': 'text/plain',\n",
              "  'language': None,\n",
              "  'base': 'https://feeds.finance.yahoo.com/rss/2.0/headline?s=aapl&region=US&lang=en-US',\n",
              "  'value': 'Apple Hires Its First People Officer in Executive Reshuffle'}}"
            ]
          },
          "execution_count": 9,
          "metadata": {},
          "output_type": "execute_result"
        }
      ],
      "source": [
        "# get raw data\n",
        "from yahoo_fin import news\n",
        "\n",
        "news_raw = news.get_yf_rss(\"aapl\")\n",
        "news_raw[0] # only use 1 news\n"
      ]
    },
    {
      "cell_type": "code",
      "execution_count": 11,
      "metadata": {
        "colab": {
          "base_uri": "https://localhost:8080/"
        },
        "id": "fXt6RQLHgnZn",
        "outputId": "a032567f-dfb6-498f-dfd2-39427fc24371"
      },
      "outputs": [
        {
          "name": "stdout",
          "output_type": "stream",
          "text": [
            "======================news 1======================\n"
          ]
        },
        {
          "data": {
            "text/plain": [
              "{'data_source': 'yahoo_finance',\n",
              " 'dataset_type_id': 'http://bucket-name.s3-website-Region.amazonaws.com',\n",
              " 'time_object': {'timestamp': '2023-02-09 07:00:52.787880',\n",
              "  'timezone': 'GMT+11'},\n",
              " 'events': [{'time_object': {'timestamp': '2023-02-08 22:00:19.000000',\n",
              "    'duration': 86400,\n",
              "    'timezone': 'GMT+11'},\n",
              "   'event_type': 'stock news',\n",
              "   'attribute': {'summary': '(Bloomberg) -- Apple Inc. is hiring its first chief people officer and shifting human resources duties from its head of retail, overhauling the way the tech giant hires and supports employees.Most Read from BloombergMeta Asks Many Managers to Get Back to Making Things or LeaveGeorge Santos Gets Into Fight With Mitt Romney at State of the Union DebutDeSantis Chides Trump as Republicans’ 2024 Presidential Race Heats UpChinese Balloon Was Part of Years-Long Spying Program, US SaysRussia Will Fail t',\n",
              "    'summary_detail': {'type': 'text/html',\n",
              "     'language': None,\n",
              "     'base': 'https://feeds.finance.yahoo.com/rss/2.0/headline?s=aapl&region=US&lang=en-US',\n",
              "     'value': '(Bloomberg) -- Apple Inc. is hiring its first chief people officer and shifting human resources duties from its head of retail, overhauling the way the tech giant hires and supports employees.Most Read from BloombergMeta Asks Many Managers to Get Back to Making Things or LeaveGeorge Santos Gets Into Fight With Mitt Romney at State of the Union DebutDeSantis Chides Trump as Republicans’ 2024 Presidential Race Heats UpChinese Balloon Was Part of Years-Long Spying Program, US SaysRussia Will Fail t'},\n",
              "    'id': '5ae84a53-55ae-3b55-8468-9ca26170b8cc',\n",
              "    'guidislink': False,\n",
              "    'links': [{'rel': 'alternate',\n",
              "      'type': 'text/html',\n",
              "      'href': 'https://finance.yahoo.com/news/apple-hires-first-people-officer-220019649.html?.tsrc=rss'}],\n",
              "    'link': 'https://finance.yahoo.com/news/apple-hires-first-people-officer-220019649.html?.tsrc=rss',\n",
              "    'published': 'Wed, 08 Feb 2023 22:00:19 +0000',\n",
              "    'published_parsed': time.struct_time(tm_year=2023, tm_mon=2, tm_mday=8, tm_hour=22, tm_min=0, tm_sec=19, tm_wday=2, tm_yday=39, tm_isdst=0),\n",
              "    'title': 'Apple Hires Its First People Officer in Executive Reshuffle',\n",
              "    'title_detail': {'type': 'text/plain',\n",
              "     'language': None,\n",
              "     'base': 'https://feeds.finance.yahoo.com/rss/2.0/headline?s=aapl&region=US&lang=en-US',\n",
              "     'value': 'Apple Hires Its First People Officer in Executive Reshuffle'}}},\n",
              "  {'time_object': {'timestamp': '2023-02-08 21:51:39.000000',\n",
              "    'duration': 86400,\n",
              "    'timezone': 'GMT+11'},\n",
              "   'event_type': 'stock news',\n",
              "   'attribute': {'summary': 'The artificial intelligence company will help power a Bing chat product that could upend the search business and advertising with it.  Shares of Apple (NASDAQ: AAPL) fell as much as 2.3% in trading Wednesday, Amazon (NASDAQ: AMZN) dropped 3.3%, and Meta Platforms (NASDAQ: META) fell up to 4.5%.',\n",
              "    'summary_detail': {'type': 'text/html',\n",
              "     'language': None,\n",
              "     'base': 'https://feeds.finance.yahoo.com/rss/2.0/headline?s=aapl&region=US&lang=en-US',\n",
              "     'value': 'The artificial intelligence company will help power a Bing chat product that could upend the search business and advertising with it.  Shares of Apple (NASDAQ: AAPL) fell as much as 2.3% in trading Wednesday, Amazon (NASDAQ: AMZN) dropped 3.3%, and Meta Platforms (NASDAQ: META) fell up to 4.5%.'},\n",
              "    'id': '60c92fe8-b6e8-3bc0-b378-b5bc5724d59d',\n",
              "    'guidislink': False,\n",
              "    'links': [{'rel': 'alternate',\n",
              "      'type': 'text/html',\n",
              "      'href': 'https://finance.yahoo.com/m/60c92fe8-b6e8-3bc0-b378-b5bc5724d59d/why-apple%2C-amazon%2C-and-meta.html?.tsrc=rss'}],\n",
              "    'link': 'https://finance.yahoo.com/m/60c92fe8-b6e8-3bc0-b378-b5bc5724d59d/why-apple%2C-amazon%2C-and-meta.html?.tsrc=rss',\n",
              "    'published': 'Wed, 08 Feb 2023 21:51:39 +0000',\n",
              "    'published_parsed': time.struct_time(tm_year=2023, tm_mon=2, tm_mday=8, tm_hour=21, tm_min=51, tm_sec=39, tm_wday=2, tm_yday=39, tm_isdst=0),\n",
              "    'title': \"Why Apple, Amazon, and Meta Platforms All Fell on Microsoft's AI News\",\n",
              "    'title_detail': {'type': 'text/plain',\n",
              "     'language': None,\n",
              "     'base': 'https://feeds.finance.yahoo.com/rss/2.0/headline?s=aapl&region=US&lang=en-US',\n",
              "     'value': \"Why Apple, Amazon, and Meta Platforms All Fell on Microsoft's AI News\"}}}]}"
            ]
          },
          "execution_count": 11,
          "metadata": {},
          "output_type": "execute_result"
        },
        {
          "name": "stderr",
          "output_type": "stream",
          "text": [
            "Bad pipe message: %s [b'xz\\xd3 \\x1d\\xfc\\xbf<FjfD2P\\xb6\\x8b\\x88S \\xebu\\x87a\\x9f\\x00;6s\\tyf\\x96\\xe7\\x86\\xbdv\\xc7\\xbf\\x85\\x17\\xa1J\\xfe\\xf0']\n",
            "Bad pipe message: %s [b'\\xa9\\xef\\xc6\\xde\\x95\\x00\\x08\\x13\\x02\\x13\\x03\\x13\\x01\\x00\\xff\\x01\\x00\\x00\\x8f\\x00\\x00\\x00\\x0e\\x00\\x0c\\x00\\x00\\t127.0.0.1\\x00\\x0b\\x00\\x04\\x03\\x00\\x01\\x02\\x00\\n\\x00\\x0c\\x00\\n\\x00\\x1d\\x00\\x17\\x00\\x1e\\x00\\x19\\x00\\x18\\x00#\\x00\\x00\\x00\\x16\\x00\\x00\\x00\\x17\\x00\\x00\\x00\\r\\x00\\x1e\\x00\\x1c\\x04\\x03\\x05\\x03\\x06\\x03\\x08\\x07\\x08\\x08\\x08\\t', b'\\x08\\x0b\\x08\\x04\\x08\\x05\\x08']\n",
            "Bad pipe message: %s [b\"\\xb8\\xf7\\xa5+\\xed\\xe0\\xb4\\x80\\x8eP^t\\xd1o\\xe9\\x80\\x93\\x80\\x00\\x00\\xf4\\xc00\\xc0,\\xc0(\\xc0$\\xc0\\x14\\xc0\\n\\x00\\xa5\\x00\\xa3\\x00\\xa1\\x00\\x9f\\x00k\\x00j\\x00i\\x00h\\x009\\x008\\x007\\x006\\x00\\x88\\x00\\x87\\x00\\x86\\x00\\x85\\xc0\\x19\\x00\\xa7\\x00m\\x00:\\x00\\x89\\xc02\\xc0.\\xc0*\\xc0&\\xc0\\x0f\\xc0\\x05\\x00\\x9d\\x00=\\x005\\x00\\x84\\xc0/\\xc0+\\xc0'\\xc0#\\xc0\\x13\\xc0\\t\\x00\\xa4\\x00\\xa2\\x00\\xa0\\x00\\x9e\\x00\", b'@\\x00?\\x00>\\x003\\x002\\x001\\x000\\x00\\x9a\\x00\\x99\\x00\\x98\\x00\\x97\\x00E\\x00D\\x00C\\x00B\\xc0\\x18\\x00\\xa6\\x00l\\x004\\x00\\x9b\\x00F\\xc01\\xc0-\\xc0)\\xc0%\\xc0\\x0e\\xc0\\x04\\x00\\x9c\\x00<\\x00/\\x00\\x96\\x00A\\x00\\x07\\xc0\\x11\\xc0\\x07\\xc0\\x16\\x00\\x18\\xc0\\x0c\\xc0\\x02\\x00\\x05\\x00\\x04\\xc0\\x12\\xc0\\x08\\x00\\x16\\x00\\x13\\x00\\x10\\x00\\r\\xc0\\x17\\x00\\x1b\\xc0\\r\\xc0\\x03\\x00']\n",
            "Bad pipe message: %s [b'\\xd7\\x80\\x99k\\xa2\\x985\\xc9\\x81C\\xa6\\xda\\xd3\\xb6\\xe7\\xb5L\\x92\\x00\\x00|\\xc0,\\xc00\\x00\\xa3\\x00\\x9f\\xcc\\xa9\\xcc\\xa8\\xcc\\xaa\\xc0\\xaf\\xc0\\xad\\xc0\\xa3\\xc0\\x9f\\xc0]\\xc0a\\xc0W\\xc0S\\xc0+\\xc0/\\x00\\xa2\\x00\\x9e\\xc0\\xae']\n",
            "Bad pipe message: %s [b\"\\xa1\\xb3\\xb1\\xa2\\xbb\\xac\\xa5\\xca8\\x1c\\xdd\\xb1\\x8dr;\\xbb\\x99G\\x00\\x00\\xa6\\xc0,\\xc00\\x00\\xa3\\x00\\x9f\\xcc\\xa9\\xcc\\xa8\\xcc\\xaa\\xc0\\xaf\\xc0\\xad\\xc0\\xa3\\xc0\\x9f\\xc0]\\xc0a\\xc0W\\xc0S\\xc0+\\xc0/\\x00\\xa2\\x00\\x9e\\xc0\\xae\\xc0\\xac\\xc0\\xa2\\xc0\\x9e\\xc0\\\\\\xc0`\\xc0V\\xc0R\\xc0$\\xc0(\\x00k\\x00j\\xc0s\\xc0w\\x00\\xc4\\x00\\xc3\\xc0#\\xc0'\\x00g\\x00@\\xc0r\\xc0v\\x00\\xbe\\x00\\xbd\\xc0\", b'\\x14\\x009\\x008\\x00\\x88\\x00\\x87']\n",
            "Bad pipe message: %s [b'\\x87s+\\xad\"\\xb6\\xa6\\xf2\\xcc\\xed\\xf1l0\\xcd\\x9eY\\x83\\xbf\\x00\\x00\\x86\\xc00\\xc0,\\xc0(\\xc0$\\xc0\\x14\\xc0\\n\\x00\\xa5\\x00\\xa3\\x00\\xa1\\x00\\x9f\\x00k\\x00j\\x00i\\x00h\\x009\\x008\\x007\\x006\\xc02\\xc0.\\xc0*\\xc0&\\xc0\\x0f\\xc0\\x05\\x00\\x9d\\x00=\\x005\\xc0/\\xc0+\\xc0\\'\\xc0#\\xc0\\x13\\xc0\\t\\x00\\xa4\\x00\\xa2\\x00\\xa0\\x00\\x9e\\x00g\\x00@\\x00?\\x00>\\x003\\x002\\x001\\x000\\xc01\\xc0-\\xc0)\\xc0%\\xc0\\x0e\\xc0\\x04\\x00\\x9c\\x00<\\x00/\\x00\\x9a\\x00\\x99\\x00\\x98\\x00\\x97\\x00\\x96\\x00\\x07\\xc0\\x11\\xc0\\x07\\xc0\\x0c\\xc0\\x02\\x00\\x05\\x00\\x04\\x00\\xff\\x02\\x01\\x00\\x00g\\x00\\x00\\x00\\x0e\\x00\\x0c\\x00\\x00\\t127.0.0.1\\x00\\x0b\\x00\\x04\\x03\\x00\\x01\\x02\\x00\\n\\x00\\x1c\\x00\\x1a\\x00\\x17\\x00\\x19\\x00\\x1c\\x00\\x1b\\x00\\x18\\x00\\x1a\\x00\\x16\\x00\\x0e\\x00\\r\\x00\\x0b\\x00\\x0c\\x00\\t\\x00\\n\\x00#\\x00\\x00\\x00\\r\\x00 \\x00\\x1e\\x06\\x01\\x06\\x02\\x06\\x03\\x05\\x01', b'\\x05\\x03\\x04\\x01']\n",
            "Bad pipe message: %s [b'\\xb91 \\xd9\\xcd\\x8aR[\\xf1!\\xbd\\x9e=\\\\\\xa0\\xd4\\xd7\\xcc\\x00\\x00\\xa2\\xc0\\x14\\xc0\\n\\x009\\x008\\x007\\x006\\x00\\x88\\x00\\x87\\x00\\x86\\x00\\x85\\xc0\\x19\\x00:\\x00\\x89\\xc0\\x0f\\xc0\\x05\\x005\\x00\\x84\\xc0\\x13\\xc0\\t\\x003\\x002\\x001\\x000\\x00\\x9a\\x00\\x99\\x00\\x98\\x00\\x97\\x00E\\x00D\\x00C\\x00B\\xc0\\x18\\x004\\x00\\x9b\\x00F\\xc0\\x0e\\xc0\\x04\\x00/\\x00\\x96\\x00A\\x00\\x07\\xc0\\x11\\xc0\\x07\\xc0\\x16\\x00\\x18\\xc0\\x0c\\xc0\\x02\\x00\\x05\\x00\\x04\\xc0\\x12\\xc0\\x08\\x00\\x16\\x00\\x13\\x00\\x10\\x00\\r\\xc0\\x17\\x00\\x1b\\xc0\\r\\xc0\\x03\\x00\\n\\x00\\x15\\x00\\x12\\x00\\x0f\\x00']\n",
            "Bad pipe message: %s [b'-\\xcbk\\xc2\\x91\\x93\\xc6e\\xaau{\\xe33\\x8b\\xebw', b'\\x00\\x00\\xa2\\xc0\\x14\\xc0\\n\\x009\\x008\\x007\\x006\\x00\\x88\\x00\\x87\\x00\\x86\\x00\\x85\\xc0\\x19\\x00:\\x00\\x89\\xc0\\x0f\\xc0\\x05\\x005\\x00\\x84\\xc0\\x13\\xc0\\t\\x003\\x002\\x001\\x000\\x00\\x9a\\x00\\x99\\x00\\x98\\x00\\x97\\x00E\\x00D\\x00C\\x00B\\xc0\\x18\\x004\\x00\\x9b\\x00F\\xc0\\x0e\\xc0\\x04\\x00/\\x00\\x96\\x00A\\x00\\x07\\xc0\\x11\\xc0\\x07\\xc0\\x16\\x00\\x18\\xc0\\x0c\\xc0\\x02\\x00\\x05\\x00\\x04\\xc0\\x12\\xc0\\x08\\x00\\x16\\x00\\x13\\x00\\x10\\x00\\r\\xc0\\x17\\x00\\x1b\\xc0\\r\\xc0\\x03\\x00\\n\\x00\\x15\\x00\\x12\\x00\\x0f\\x00\\x0c\\x00\\x1a\\x00\\t\\x00\\x14\\x00\\x11\\x00\\x19\\x00\\x08\\x00\\x06\\x00\\x17\\x00\\x03\\xc0\\x10\\xc0\\x06\\xc0\\x15\\xc0\\x0b\\xc0\\x01\\x00\\x02\\x00\\x01\\x00\\xff\\x02\\x01\\x00\\x00C\\x00\\x00\\x00\\x0e\\x00\\x0c\\x00\\x00\\t127.0.0.1\\x00\\x0b\\x00\\x04\\x03\\x00']\n",
            "Bad pipe message: %s [b'\\x01\\x05\\x01\\x06\\x01']\n",
            "Bad pipe message: %s [b'\\x15\\x00\\x12\\x00\\x0f\\x00\\x0c\\x00\\x1a']\n",
            "Bad pipe message: %s [b\"\\xc0\\xa2\\xc0\\x9e\\xc0\\\\\\xc0`\\xc0V\\xc0R\\xc0$\\xc0(\\x00k\\x00j\\xc0#\\xc0'\\x00g\\x00@\\xc0\\n\\xc0\\x14\\x009\\x008\\xc0\\t\\xc0\\x13\\x003\\x002\\x00\\x9d\\xc0\\xa1\\xc0\\x9d\\xc0Q\\x00\\x9c\\xc0\\xa0\\xc0\\x9c\\xc0P\\x00=\\x00<\\x005\\x00/\\x00\\x9a\\x00\\x99\\xc0\\x07\\xc0\\x11\\x00\\x96\\x00\\x05\\x00\\xff\\x01\\x00\\x00j\\x00\\x00\\x00\\x0e\\x00\\x0c\\x00\\x00\\t127.0.0.1\\x00\\x0b\\x00\\x04\\x03\\x00\\x01\\x02\\x00\\n\\x00\\x0c\\x00\\n\\x00\\x1d\\x00\\x17\\x00\\x1e\\x00\\x19\\x00\\x18\\x00#\\x00\\x00\\x00\\x16\\x00\\x00\\x00\\x17\\x00\\x00\\x00\\r\\x000\\x00.\\x04\\x03\\x05\\x03\\x06\\x03\\x08\\x07\\x08\\x08\\x08\\t\\x08\\n\\x08\\x0b\\x08\\x04\\x08\\x05\\x08\\x06\\x04\\x01\\x05\\x01\\x06\\x01\\x03\\x03\\x02\\x03\\x03\\x01\\x02\\x01\\x03\\x02\\x02\\x02\\x04\\x02\\x05\\x02\\x06\"]\n",
            "Bad pipe message: %s [b'']\n",
            "Bad pipe message: %s [b'\\x04\\x03\\x03']\n",
            "Bad pipe message: %s [b'\\x1a\\x00\\t\\x00\\x14\\x00\\x11\\x00\\x19\\x00\\x08']\n",
            "Bad pipe message: %s [b'', b'\\x03', b'\\x02', b'\\x03']\n"
          ]
        }
      ],
      "source": [
        "# Our data model\n",
        "jsonfile_news1 = {\"data_source\":\"yahoo_finance\", \"dataset_type_id\": \"http://bucket-name.s3-website-Region.amazonaws.com\",\n",
        "                  \"time_object\":{\"timestamp\":date_time, \"timezone\":tzs},\n",
        "                  \"events\":[]  \n",
        "                 }\n",
        "\n",
        "print(\"======================news 1======================\")\n",
        "\n",
        "for i in range(len(news_raw)):\n",
        "  datetime_str = news_raw[i]['published'][5:]\n",
        "  datetime_object = datetime.strptime(datetime_str, '%d %b %Y %H:%M:%S +0000')\n",
        "  datetime_object = pd.to_datetime(datetime_object, format='%Y-%m-%d %H:%M:%S.%f' )\n",
        "  datetime_object= datetime_object.strftime('%Y-%m-%d %H:%M:%S.%f')\n",
        "  jsonfile_news1[\"events\"].append({\"time_object\":{\"timestamp\":datetime_object, \"duration\":24*60*60, \"timezone\":tzs},\n",
        "                                   \"event_type\":'stock news',   \n",
        "                                   \"attribute\":news_raw[i] } )\n",
        "  if i == 1:\n",
        "    break\n",
        "\n",
        "# Write pretty print JSON data to file\n",
        "with open(\"jsonfile_news.json\", \"w\") as write_file:\n",
        "    json.dump(jsonfile_news1, write_file, indent=4)\n",
        "\n",
        "jsonfile_news1\n"
      ]
    }
  ],
  "metadata": {
    "colab": {
      "provenance": []
    },
    "kernelspec": {
      "display_name": "Python 3",
      "language": "python",
      "name": "python3"
    },
    "language_info": {
      "codemirror_mode": {
        "name": "ipython",
        "version": 3
      },
      "file_extension": ".py",
      "mimetype": "text/x-python",
      "name": "python",
      "nbconvert_exporter": "python",
      "pygments_lexer": "ipython3",
      "version": "3.10.4"
    },
    "vscode": {
      "interpreter": {
        "hash": "3ad933181bd8a04b432d3370b9dc3b0662ad032c4dfaa4e4f1596c548f763858"
      }
    }
  },
  "nbformat": 4,
  "nbformat_minor": 0
}
