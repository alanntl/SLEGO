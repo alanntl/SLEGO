{
 "cells": [
  {
   "cell_type": "code",
   "execution_count": 1,
   "metadata": {},
   "outputs": [
    {
     "name": "stdout",
     "output_type": "stream",
     "text": [
      "Unexpected exception formatting exception. Falling back to standard exception\n"
     ]
    },
    {
     "name": "stderr",
     "output_type": "stream",
     "text": [
      "Traceback (most recent call last):\n",
      "  File \"c:\\Users\\z5380623\\Anaconda3\\envs\\financeitunsw\\lib\\site-packages\\holoviews\\plotting\\bokeh\\annotation.py\", line 15, in <module>\n",
      "    from bokeh.models.arrow_heads import TeeHead, NormalHead\n",
      "ModuleNotFoundError: No module named 'bokeh.models.arrow_heads'\n",
      "\n",
      "During handling of the above exception, another exception occurred:\n",
      "\n",
      "Traceback (most recent call last):\n",
      "  File \"c:\\Users\\z5380623\\Anaconda3\\envs\\financeitunsw\\lib\\site-packages\\IPython\\core\\interactiveshell.py\", line 3398, in run_code\n",
      "    exec(code_obj, self.user_global_ns, self.user_ns)\n",
      "  File \"C:\\Users\\z5380623\\AppData\\Local\\Temp\\ipykernel_34500\\2780546940.py\", line 1, in <cell line: 1>\n",
      "    import sobjects as ao\n",
      "  File \"c:\\Users\\z5380623\\OneDrive\\Documents\\Github\\SLEGO\\sobjects.py\", line 6, in <module>\n",
      "    pn.extension('terminal','tabulator','texteditor','plotly', sizing_mode='stretch_width')\n",
      "  File \"c:\\Users\\z5380623\\Anaconda3\\envs\\financeitunsw\\lib\\site-packages\\param\\parameterized.py\", line 3631, in __new__\n",
      "    return inst.__call__(*args,**params)\n",
      "  File \"c:\\Users\\z5380623\\Anaconda3\\envs\\financeitunsw\\lib\\site-packages\\panel\\config.py\", line 708, in __call__\n",
      "    import holoviews.plotting.bokeh  # noqa\n",
      "  File \"c:\\Users\\z5380623\\Anaconda3\\envs\\financeitunsw\\lib\\site-packages\\holoviews\\plotting\\bokeh\\__init__.py\", line 24, in <module>\n",
      "    from .annotation import (\n",
      "  File \"c:\\Users\\z5380623\\Anaconda3\\envs\\financeitunsw\\lib\\site-packages\\holoviews\\plotting\\bokeh\\annotation.py\", line 20, in <module>\n",
      "    from bokeh.models.arrow_heads import OpenHead, NormalHead\n",
      "ModuleNotFoundError: No module named 'bokeh.models.arrow_heads'\n",
      "\n",
      "During handling of the above exception, another exception occurred:\n",
      "\n",
      "Traceback (most recent call last):\n",
      "  File \"c:\\Users\\z5380623\\Anaconda3\\envs\\financeitunsw\\lib\\site-packages\\IPython\\core\\interactiveshell.py\", line 1993, in showtraceback\n",
      "    stb = self.InteractiveTB.structured_traceback(\n",
      "  File \"c:\\Users\\z5380623\\Anaconda3\\envs\\financeitunsw\\lib\\site-packages\\IPython\\core\\ultratb.py\", line 1118, in structured_traceback\n",
      "    return FormattedTB.structured_traceback(\n",
      "  File \"c:\\Users\\z5380623\\Anaconda3\\envs\\financeitunsw\\lib\\site-packages\\IPython\\core\\ultratb.py\", line 1012, in structured_traceback\n",
      "    return VerboseTB.structured_traceback(\n",
      "  File \"c:\\Users\\z5380623\\Anaconda3\\envs\\financeitunsw\\lib\\site-packages\\IPython\\core\\ultratb.py\", line 865, in structured_traceback\n",
      "    formatted_exception = self.format_exception_as_a_whole(etype, evalue, etb, number_of_lines_of_context,\n",
      "  File \"c:\\Users\\z5380623\\Anaconda3\\envs\\financeitunsw\\lib\\site-packages\\IPython\\core\\ultratb.py\", line 818, in format_exception_as_a_whole\n",
      "    frames.append(self.format_record(r))\n",
      "  File \"c:\\Users\\z5380623\\Anaconda3\\envs\\financeitunsw\\lib\\site-packages\\IPython\\core\\ultratb.py\", line 736, in format_record\n",
      "    result += ''.join(_format_traceback_lines(frame_info.lines, Colors, self.has_colors, lvals))\n",
      "  File \"c:\\Users\\z5380623\\Anaconda3\\envs\\financeitunsw\\lib\\site-packages\\stack_data\\utils.py\", line 145, in cached_property_wrapper\n",
      "    value = obj.__dict__[self.func.__name__] = self.func(obj)\n",
      "  File \"c:\\Users\\z5380623\\Anaconda3\\envs\\financeitunsw\\lib\\site-packages\\stack_data\\core.py\", line 698, in lines\n",
      "    pieces = self.included_pieces\n",
      "  File \"c:\\Users\\z5380623\\Anaconda3\\envs\\financeitunsw\\lib\\site-packages\\stack_data\\utils.py\", line 145, in cached_property_wrapper\n",
      "    value = obj.__dict__[self.func.__name__] = self.func(obj)\n",
      "  File \"c:\\Users\\z5380623\\Anaconda3\\envs\\financeitunsw\\lib\\site-packages\\stack_data\\core.py\", line 645, in included_pieces\n",
      "    scope_pieces = self.scope_pieces\n",
      "  File \"c:\\Users\\z5380623\\Anaconda3\\envs\\financeitunsw\\lib\\site-packages\\stack_data\\utils.py\", line 145, in cached_property_wrapper\n",
      "    value = obj.__dict__[self.func.__name__] = self.func(obj)\n",
      "  File \"c:\\Users\\z5380623\\Anaconda3\\envs\\financeitunsw\\lib\\site-packages\\stack_data\\core.py\", line 585, in scope_pieces\n",
      "    for piece in self.source.pieces\n",
      "  File \"c:\\Users\\z5380623\\Anaconda3\\envs\\financeitunsw\\lib\\site-packages\\stack_data\\utils.py\", line 145, in cached_property_wrapper\n",
      "    value = obj.__dict__[self.func.__name__] = self.func(obj)\n",
      "  File \"c:\\Users\\z5380623\\Anaconda3\\envs\\financeitunsw\\lib\\site-packages\\stack_data\\core.py\", line 90, in pieces\n",
      "    return list(self._clean_pieces())\n",
      "  File \"c:\\Users\\z5380623\\Anaconda3\\envs\\financeitunsw\\lib\\site-packages\\stack_data\\core.py\", line 114, in _clean_pieces\n",
      "    raise AssertionError(\"Pieces mismatches: %s\" % mismatches)\n",
      "AssertionError: Pieces mismatches: [{660, 661}, {675, 676}, {688, 689}, {694, 695}]\n"
     ]
    }
   ],
   "source": [
    "import sobjects as ao\n",
    "app = ao.App(open_in_browser=False)\n",
    "app.view"
   ]
  },
  {
   "cell_type": "code",
   "execution_count": null,
   "metadata": {},
   "outputs": [],
   "source": []
  }
 ],
 "metadata": {
  "kernelspec": {
   "display_name": "uitfin",
   "language": "python",
   "name": "python3"
  },
  "language_info": {
   "codemirror_mode": {
    "name": "ipython",
    "version": 3
   },
   "file_extension": ".py",
   "mimetype": "text/x-python",
   "name": "python",
   "nbconvert_exporter": "python",
   "pygments_lexer": "ipython3",
   "version": "3.9.12"
  },
  "vscode": {
   "interpreter": {
    "hash": "f2d5aef70196861a54855b9fbc09089907db553d26ac4fdbeacec65f5a964213"
   }
  }
 },
 "nbformat": 4,
 "nbformat_minor": 4
}
